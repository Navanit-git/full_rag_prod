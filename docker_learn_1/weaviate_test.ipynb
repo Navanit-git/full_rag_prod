{
 "cells": [
  {
   "cell_type": "code",
   "execution_count": null,
   "metadata": {},
   "outputs": [],
   "source": [
    "from weaviate_query_add import VectorMain\n",
    "\n",
    "##time taken  1m_43 seconds"
   ]
  },
  {
   "cell_type": "code",
   "execution_count": 2,
   "metadata": {},
   "outputs": [],
   "source": [
    "value = VectorMain(collection_name=\"API_test\", model_name= \"/mnt/e/win_python/hb_model/gte-large-en-v1.5\")\n",
    "\n",
    "##time taken = 30.2 seconds"
   ]
  },
  {
   "cell_type": "code",
   "execution_count": 3,
   "metadata": {},
   "outputs": [],
   "source": [
    "json_value = [\n",
    "     {\n",
    "        \"guid\": 1,\n",
    "        \"query\": \"Hello, my name is\",\n",
    "        \"answer\" : \"My name is navanit\"\n",
    "    },\n",
    "    {\n",
    "        \"guid\": 2,\n",
    "        \"query\": \"The president of the United States is\",\n",
    "        \"answer\" : \"Navanit\"\n",
    "    },\n",
    "    {\n",
    "        \"guid\": 3,\n",
    "        \"query\": \"The capital of France is\",\n",
    "        \"answer\" : \"Navanit Home\"\n",
    "    },\n",
    "    {\n",
    "        \"guid\": 4,\n",
    "        \"query\": \"The future of AI is\",\n",
    "        \"answer\" : \"Navanit Discovery\"\n",
    "    }\n",
    "]"
   ]
  },
  {
   "cell_type": "code",
   "execution_count": 4,
   "metadata": {},
   "outputs": [],
   "source": [
    "value.insert_data(json_value)\n",
    "## time taken 22.4 seconds"
   ]
  },
  {
   "cell_type": "code",
   "execution_count": null,
   "metadata": {},
   "outputs": [],
   "source": [
    "file = value.db_query_data(query=\"America Presiden is ?\")\n",
    "file"
   ]
  },
  {
   "cell_type": "code",
   "execution_count": null,
   "metadata": {},
   "outputs": [],
   "source": [
    "file[0]"
   ]
  },
  {
   "cell_type": "code",
   "execution_count": 2,
   "metadata": {},
   "outputs": [],
   "source": [
    "import requests"
   ]
  },
  {
   "cell_type": "code",
   "execution_count": null,
   "metadata": {},
   "outputs": [],
   "source": [
    "curl -X 'POST' \\\n",
    "  'http://localhost:8050/input_query' \\\n",
    "  -H 'accept: application/json' \\\n",
    "  -H 'Content-Type: application/json' \\\n",
    "  -d '{\n",
    "  \"input_json\": [\n",
    "   {\n",
    "        \"guid\": 1,\n",
    "        \"query\": \"Hello, my name is\",\n",
    "        \"answer\" : \"My name is navanit\"\n",
    "    }\n",
    "  ],\n",
    "  \"session_id\": \"value_1\"\n",
    "}'\n",
    "\n",
    "http://localhost:8050/input_query"
   ]
  },
  {
   "cell_type": "code",
   "execution_count": null,
   "metadata": {},
   "outputs": [],
   "source": [
    "curl -X 'POST' \\\n",
    "  'http://localhost:8050/search_query' \\\n",
    "  -H 'accept: application/json' \\\n",
    "  -H 'Content-Type: application/json' \\\n",
    "  -d '{\n",
    "  \"query\": \"who are you\",\n",
    "  \"session_id\": \"value_2\"\n",
    "}'\n",
    "\n",
    "http://localhost:8050/search_query"
   ]
  }
 ],
 "metadata": {
  "kernelspec": {
   "display_name": "n_env",
   "language": "python",
   "name": "python3"
  },
  "language_info": {
   "codemirror_mode": {
    "name": "ipython",
    "version": 3
   },
   "file_extension": ".py",
   "mimetype": "text/x-python",
   "name": "python",
   "nbconvert_exporter": "python",
   "pygments_lexer": "ipython3",
   "version": "3.10.12"
  }
 },
 "nbformat": 4,
 "nbformat_minor": 2
}
